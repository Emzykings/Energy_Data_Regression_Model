{
 "cells": [
  {
   "cell_type": "code",
   "execution_count": 1,
   "id": "f739650d",
   "metadata": {},
   "outputs": [
    {
     "name": "stdout",
     "output_type": "stream",
     "text": [
      "                  date  Appliances  lights     T1       RH_1    T2       RH_2  \\\n",
      "0  2016-01-11 17:00:00          60      30  19.89  47.596667  19.2  44.790000   \n",
      "1  2016-01-11 17:10:00          60      30  19.89  46.693333  19.2  44.722500   \n",
      "2  2016-01-11 17:20:00          50      30  19.89  46.300000  19.2  44.626667   \n",
      "3  2016-01-11 17:30:00          50      40  19.89  46.066667  19.2  44.590000   \n",
      "4  2016-01-11 17:40:00          60      40  19.89  46.333333  19.2  44.530000   \n",
      "\n",
      "      T3       RH_3         T4  ...         T9   RH_9     T_out  Press_mm_hg  \\\n",
      "0  19.79  44.730000  19.000000  ...  17.033333  45.53  6.600000        733.5   \n",
      "1  19.79  44.790000  19.000000  ...  17.066667  45.56  6.483333        733.6   \n",
      "2  19.79  44.933333  18.926667  ...  17.000000  45.50  6.366667        733.7   \n",
      "3  19.79  45.000000  18.890000  ...  17.000000  45.40  6.250000        733.8   \n",
      "4  19.79  45.000000  18.890000  ...  17.000000  45.40  6.133333        733.9   \n",
      "\n",
      "   RH_out  Windspeed  Visibility  Tdewpoint        rv1        rv2  \n",
      "0    92.0   7.000000   63.000000        5.3  13.275433  13.275433  \n",
      "1    92.0   6.666667   59.166667        5.2  18.606195  18.606195  \n",
      "2    92.0   6.333333   55.333333        5.1  28.642668  28.642668  \n",
      "3    92.0   6.000000   51.500000        5.0  45.410389  45.410389  \n",
      "4    92.0   5.666667   47.666667        4.9  10.084097  10.084097  \n",
      "\n",
      "[5 rows x 29 columns]\n",
      "Root Mean Squared Error: 3.633\n"
     ]
    }
   ],
   "source": [
    "import pandas as pd\n",
    "\n",
    "# Load the dataset\n",
    "data = pd.read_csv('energydata_complete.csv')\n",
    "\n",
    "# Displaying the first few rows of the dataset\n",
    "print(data.head())\n",
    "\n",
    "\n",
    "# Selecting relevant columns (T2 and T6)\n",
    "X = data['T2'].values.reshape(-1, 1)\n",
    "y = data['T6'].values\n",
    "\n",
    "# Spliting the data into training and testing sets (80% training, 20% testing)\n",
    "from sklearn.model_selection import train_test_split\n",
    "X_train, X_test, y_train, y_test = train_test_split(X, y, test_size=0.2, random_state=42)\n",
    "\n",
    "#Training a Linear Model\n",
    "from sklearn.linear_model import LinearRegression\n",
    "\n",
    "# Initializing the model\n",
    "model = LinearRegression()\n",
    "\n",
    "# Fit the model on the training data\n",
    "model.fit(X_train, y_train)\n",
    "\n",
    "\n",
    "# Use the model to make predictions on the test set\n",
    "y_pred = model.predict(X_test)\n",
    "\n",
    "# Calculating Root Mean Squared Error (RMSE)\n",
    "from sklearn.metrics import mean_squared_error\n",
    "import numpy as np\n",
    "\n",
    "# Calculating RMSE\n",
    "rmse = np.sqrt(mean_squared_error(y_test, y_pred))\n",
    "\n",
    "# Print RMSE to 3 decimal places\n",
    "print(f'Root Mean Squared Error: {rmse:.3f}')\n"
   ]
  },
  {
   "cell_type": "code",
   "execution_count": 2,
   "id": "79a119e3",
   "metadata": {},
   "outputs": [
    {
     "name": "stdout",
     "output_type": "stream",
     "text": [
      "Mean Absolute Error (Training Set): 53.742\n"
     ]
    }
   ],
   "source": [
    "# Step 1: Load and Prepare the Data\n",
    "import pandas as pd\n",
    "from sklearn.model_selection import train_test_split\n",
    "from sklearn.preprocessing import MinMaxScaler\n",
    "\n",
    "# Load the dataset\n",
    "data = pd.read_csv('energydata_complete.csv')\n",
    "\n",
    "# Remove specified columns\n",
    "data = data.drop(columns=['date', 'lights'])\n",
    "\n",
    "# Define X (features) and y (target)\n",
    "X = data.drop(columns=['Appliances']).values\n",
    "y = data['Appliances'].values\n",
    "\n",
    "# Step 2: Split the Data\n",
    "X_train, X_test, y_train, y_test = train_test_split(X, y, test_size=0.3, random_state=42)\n",
    "\n",
    "# Step 3: Normalize the Data\n",
    "scaler = MinMaxScaler()\n",
    "\n",
    "# Fit and transform on the training set\n",
    "X_train_normalized = scaler.fit_transform(X_train)\n",
    "\n",
    "# Transform the test set (do not fit again!)\n",
    "X_test_normalized = scaler.transform(X_test)\n",
    "\n",
    "# Step 4: Train a Multiple Linear Regression Model\n",
    "from sklearn.linear_model import LinearRegression\n",
    "\n",
    "# Initialize the model\n",
    "model = LinearRegression()\n",
    "\n",
    "# Fit the model on the training data\n",
    "model.fit(X_train_normalized, y_train)\n",
    "\n",
    "# Step 5: Calculate Mean Absolute Error (MAE) for the Training Set\n",
    "from sklearn.metrics import mean_absolute_error\n",
    "\n",
    "# Predict on the training set\n",
    "y_pred_train = model.predict(X_train_normalized)\n",
    "\n",
    "# Calculate MAE for the training set\n",
    "mae_train = mean_absolute_error(y_train, y_pred_train)\n",
    "\n",
    "# Print MAE for the training set to 3 decimal places\n",
    "print(f'Mean Absolute Error (Training Set): {mae_train:.3f}')\n"
   ]
  },
  {
   "cell_type": "code",
   "execution_count": 3,
   "id": "7b168f87",
   "metadata": {},
   "outputs": [
    {
     "name": "stdout",
     "output_type": "stream",
     "text": [
      "Root Mean Squared Error (Training Set): 95.216\n"
     ]
    }
   ],
   "source": [
    "# Step 5: Calculate Root Mean Squared Error (RMSE) for the Training Set\n",
    "from sklearn.metrics import mean_squared_error\n",
    "import numpy as np\n",
    "\n",
    "# Predict on the training set\n",
    "y_pred_train = model.predict(X_train_normalized)\n",
    "\n",
    "# Calculate RMSE for the training set\n",
    "rmse_train = np.sqrt(mean_squared_error(y_train, y_pred_train))\n",
    "\n",
    "# Print RMSE for the training set to 3 decimal places\n",
    "print(f'Root Mean Squared Error (Training Set): {rmse_train:.3f}')\n"
   ]
  },
  {
   "cell_type": "code",
   "execution_count": 4,
   "id": "42e61188",
   "metadata": {},
   "outputs": [
    {
     "name": "stdout",
     "output_type": "stream",
     "text": [
      "Mean Absolute Error (Test Set): 53.643\n"
     ]
    }
   ],
   "source": [
    "# Predict on the test set\n",
    "y_pred_test = model.predict(X_test_normalized)\n",
    "\n",
    "# Calculate MAE for the test set\n",
    "mae_test = mean_absolute_error(y_test, y_pred_test)\n",
    "\n",
    "# Print MAE for the test set to 3 decimal places\n",
    "print(f'Mean Absolute Error (Test Set): {mae_test:.3f}')\n"
   ]
  },
  {
   "cell_type": "code",
   "execution_count": 5,
   "id": "eb66b498",
   "metadata": {},
   "outputs": [
    {
     "name": "stdout",
     "output_type": "stream",
     "text": [
      "Root Mean Squared Error (Test Set): 93.640\n"
     ]
    }
   ],
   "source": [
    "# Calculate RMSE for the test set\n",
    "rmse_test = np.sqrt(mean_squared_error(y_test, y_pred_test))\n",
    "\n",
    "# Print RMSE for the test set to 3 decimal places\n",
    "print(f'Root Mean Squared Error (Test Set): {rmse_test:.3f}')\n"
   ]
  },
  {
   "cell_type": "code",
   "execution_count": 6,
   "id": "69698a33",
   "metadata": {},
   "outputs": [
    {
     "name": "stdout",
     "output_type": "stream",
     "text": [
      "Mean Absolute Error (Training Set): 53.742\n",
      "Root Mean Squared Error (Training Set): 95.216\n",
      "Mean Absolute Error (Test Set): 53.643\n",
      "Root Mean Squared Error (Test Set): 93.640\n",
      "The model may be overfitting.\n"
     ]
    }
   ],
   "source": [
    "# Calculate performance metrics for the training set\n",
    "y_pred_train = model.predict(X_train_normalized)\n",
    "mae_train = mean_absolute_error(y_train, y_pred_train)\n",
    "rmse_train = np.sqrt(mean_squared_error(y_train, y_pred_train))\n",
    "\n",
    "# Calculate performance metrics for the test set\n",
    "y_pred_test = model.predict(X_test_normalized)\n",
    "mae_test = mean_absolute_error(y_test, y_pred_test)\n",
    "rmse_test = np.sqrt(mean_squared_error(y_test, y_pred_test))\n",
    "\n",
    "# Compare the metrics\n",
    "print(f'Mean Absolute Error (Training Set): {mae_train:.3f}')\n",
    "print(f'Root Mean Squared Error (Training Set): {rmse_train:.3f}')\n",
    "\n",
    "print(f'Mean Absolute Error (Test Set): {mae_test:.3f}')\n",
    "print(f'Root Mean Squared Error (Test Set): {rmse_test:.3f}')\n",
    "\n",
    "# Compare the metrics to see if overfitting is occurring\n",
    "if mae_train < mae_test and rmse_train < rmse_test:\n",
    "    print(\"The model is not overfitting.\")\n",
    "else:\n",
    "    print(\"The model may be overfitting.\")\n"
   ]
  },
  {
   "cell_type": "code",
   "execution_count": 7,
   "id": "b7efdd93",
   "metadata": {},
   "outputs": [
    {
     "name": "stdout",
     "output_type": "stream",
     "text": [
      "Root Mean Squared Error (Ridge Regression Test Set): 93.709\n",
      "Original Root Mean Squared Error (Test Set): 93.640\n"
     ]
    }
   ],
   "source": [
    "from sklearn.linear_model import Ridge\n",
    "\n",
    "# Initialize the Ridge regression model\n",
    "ridge_model = Ridge()\n",
    "\n",
    "# Fit the model on the training data\n",
    "ridge_model.fit(X_train_normalized, y_train)\n",
    "\n",
    "# Predict on the test set\n",
    "y_pred_test_ridge = ridge_model.predict(X_test_normalized)\n",
    "\n",
    "# Calculate RMSE for the test set\n",
    "rmse_test_ridge = np.sqrt(mean_squared_error(y_test, y_pred_test_ridge))\n",
    "\n",
    "# Print RMSE for the Ridge regression model on the test set\n",
    "print(f'Root Mean Squared Error (Ridge Regression Test Set): {rmse_test_ridge:.3f}')\n",
    "\n",
    "# Compare with the original RMSE on the test set\n",
    "print(f'Original Root Mean Squared Error (Test Set): {rmse_test:.3f}')\n"
   ]
  },
  {
   "cell_type": "code",
   "execution_count": 8,
   "id": "0dc18abf",
   "metadata": {},
   "outputs": [
    {
     "name": "stdout",
     "output_type": "stream",
     "text": [
      "Number of features with non-zero weights: 4\n"
     ]
    }
   ],
   "source": [
    "from sklearn.linear_model import Lasso\n",
    "\n",
    "# Initialize the Lasso regression model\n",
    "lasso_model = Lasso()\n",
    "\n",
    "# Fit the model on the training data\n",
    "lasso_model.fit(X_train_normalized, y_train)\n",
    "\n",
    "# Obtain the feature weights (coefficients)\n",
    "feature_weights = lasso_model.coef_\n",
    "\n",
    "# Count the number of non-zero feature weights\n",
    "num_non_zero_weights = sum(feature_weights != 0)\n",
    "\n",
    "# Print the number of features with non-zero weights\n",
    "print(f'Number of features with non-zero weights: {num_non_zero_weights}')\n"
   ]
  },
  {
   "cell_type": "code",
   "execution_count": 9,
   "id": "8f3dff2b",
   "metadata": {},
   "outputs": [
    {
     "name": "stdout",
     "output_type": "stream",
     "text": [
      "Root Mean Squared Error (Lasso Regression Test Set): 99.424\n"
     ]
    }
   ],
   "source": [
    "# Predict on the test set using Lasso Regression model\n",
    "y_pred_test_lasso = lasso_model.predict(X_test_normalized)\n",
    "\n",
    "# Calculate RMSE for the test set with Lasso Regression\n",
    "rmse_test_lasso = np.sqrt(mean_squared_error(y_test, y_pred_test_lasso))\n",
    "\n",
    "# Print RMSE for the Lasso Regression model on the test set\n",
    "print(f'Root Mean Squared Error (Lasso Regression Test Set): {rmse_test_lasso:.3f}')\n"
   ]
  },
  {
   "cell_type": "code",
   "execution_count": null,
   "id": "3747b15a",
   "metadata": {},
   "outputs": [],
   "source": []
  }
 ],
 "metadata": {
  "kernelspec": {
   "display_name": "Python 3 (ipykernel)",
   "language": "python",
   "name": "python3"
  },
  "language_info": {
   "codemirror_mode": {
    "name": "ipython",
    "version": 3
   },
   "file_extension": ".py",
   "mimetype": "text/x-python",
   "name": "python",
   "nbconvert_exporter": "python",
   "pygments_lexer": "ipython3",
   "version": "3.9.13"
  }
 },
 "nbformat": 4,
 "nbformat_minor": 5
}
